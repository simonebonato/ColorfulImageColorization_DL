{
 "cells": [
  {
   "cell_type": "code",
   "execution_count": 1,
   "outputs": [],
   "source": [
    "import matplotlib.pyplot as plt\n",
    "\n",
    "from CNN_class import *\n",
    "from functions import *\n",
    "\n",
    "# %load_ext autoreload\n",
    "# %autoreload 2"
   ],
   "metadata": {
    "collapsed": false,
    "pycharm": {
     "name": "#%%\n"
    }
   }
  },
  {
   "cell_type": "code",
   "execution_count": null,
   "metadata": {
    "collapsed": false,
    "pycharm": {
     "name": "#%%\n"
    }
   },
   "outputs": [],
   "source": [
    "m.plot_image(m.images[4])"
   ]
  },
  {
   "cell_type": "code",
   "execution_count": null,
   "metadata": {
    "collapsed": false,
    "pycharm": {
     "name": "#%%\n"
    }
   },
   "outputs": [],
   "source": [
    "m.images[6].shape"
   ]
  },
  {
   "cell_type": "code",
   "execution_count": 3,
   "metadata": {
    "collapsed": false,
    "pycharm": {
     "name": "#%%\n"
    }
   },
   "outputs": [
    {
     "name": "stdout",
     "output_type": "stream",
     "text": [
      "-- Creating CNN model --\n",
      "Model: \"sequential_1\"\n",
      "_________________________________________________________________\n",
      " Layer (type)                Output Shape              Param #   \n",
      "=================================================================\n",
      " conv1_1 (Conv2D)            (None, 224, 224, 64)      640       \n",
      "                                                                 \n",
      " conv1_2 (Conv2D)            (None, 111, 111, 64)      36928     \n",
      "                                                                 \n",
      " BN_1 (BatchNormalization)   (None, 111, 111, 64)      256       \n",
      "                                                                 \n",
      " conv2_1 (Conv2D)            (None, 111, 111, 128)     73856     \n",
      "                                                                 \n",
      " conv2_2 (Conv2D)            (None, 55, 55, 128)       147584    \n",
      "                                                                 \n",
      " BN_2 (BatchNormalization)   (None, 55, 55, 128)       512       \n",
      "                                                                 \n",
      " conv3_1 (Conv2D)            (None, 55, 55, 256)       295168    \n",
      "                                                                 \n",
      " conv3_2 (Conv2D)            (None, 55, 55, 256)       590080    \n",
      "                                                                 \n",
      " conv3_3 (Conv2D)            (None, 27, 27, 256)       590080    \n",
      "                                                                 \n",
      " BN_3 (BatchNormalization)   (None, 27, 27, 256)       1024      \n",
      "                                                                 \n",
      " conv4_1 (Conv2D)            (None, 27, 27, 512)       1180160   \n",
      "                                                                 \n",
      " conv4_2 (Conv2D)            (None, 27, 27, 512)       2359808   \n",
      "                                                                 \n",
      " conv4_3 (Conv2D)            (None, 27, 27, 512)       2359808   \n",
      "                                                                 \n",
      " BN_4 (BatchNormalization)   (None, 27, 27, 512)       2048      \n",
      "                                                                 \n",
      " conv5_1 (Conv2D)            (None, 27, 27, 512)       2359808   \n",
      "                                                                 \n",
      " conv5_2 (Conv2D)            (None, 27, 27, 512)       2359808   \n",
      "                                                                 \n",
      " conv5_3 (Conv2D)            (None, 27, 27, 512)       2359808   \n",
      "                                                                 \n",
      " BN_5 (BatchNormalization)   (None, 27, 27, 512)       2048      \n",
      "                                                                 \n",
      " conv6_1 (Conv2D)            (None, 27, 27, 512)       2359808   \n",
      "                                                                 \n",
      " conv6_2 (Conv2D)            (None, 27, 27, 512)       2359808   \n",
      "                                                                 \n",
      " conv6_3 (Conv2D)            (None, 27, 27, 512)       2359808   \n",
      "                                                                 \n",
      " BN_6 (BatchNormalization)   (None, 27, 27, 512)       2048      \n",
      "                                                                 \n",
      " conv7_1 (Conv2D)            (None, 27, 27, 256)       1179904   \n",
      "                                                                 \n",
      " conv7_2 (Conv2D)            (None, 27, 27, 256)       590080    \n",
      "                                                                 \n",
      " conv7_3 (Conv2D)            (None, 27, 27, 256)       590080    \n",
      "                                                                 \n",
      " BN_7 (BatchNormalization)   (None, 27, 27, 256)       1024      \n",
      "                                                                 \n",
      " conv8_1 (Conv2DTranspose)   (None, 55, 55, 128)       295040    \n",
      "                                                                 \n",
      " conv8_2 (Conv2D)            (None, 55, 55, 128)       147584    \n",
      "                                                                 \n",
      " conv8_3 (Conv2D)            (None, 55, 55, 128)       147584    \n",
      "                                                                 \n",
      "=================================================================\n",
      "Total params: 24,752,192\n",
      "Trainable params: 24,747,712\n",
      "Non-trainable params: 4,480\n",
      "_________________________________________________________________\n",
      "None\n"
     ]
    }
   ],
   "source": [
    "m = CNN()"
   ]
  }
 ],
 "metadata": {
  "kernelspec": {
   "display_name": "Python 3",
   "language": "python",
   "name": "python3"
  },
  "language_info": {
   "codemirror_mode": {
    "name": "ipython",
    "version": 3
   },
   "file_extension": ".py",
   "mimetype": "text/x-python",
   "name": "python",
   "nbconvert_exporter": "python",
   "pygments_lexer": "ipython3",
   "version": "3.6.13"
  }
 },
 "nbformat": 4,
 "nbformat_minor": 0
}