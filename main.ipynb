{
 "cells": [
  {
   "cell_type": "code",
   "execution_count": 61,
   "metadata": {
    "collapsed": true,
    "pycharm": {
     "name": "#%%\n"
    }
   },
   "outputs": [
    {
     "name": "stdout",
     "output_type": "stream",
     "text": [
      "The autoreload extension is already loaded. To reload it, use:\n",
      "  %reload_ext autoreload\n"
     ]
    }
   ],
   "source": [
    "import matplotlib.pyplot as plt\n",
    "\n",
    "from CNN_class import *\n",
    "from functions import *\n",
    "\n",
    "%load_ext autoreload\n",
    "%autoreload 2"
   ]
  },
  {
   "cell_type": "code",
   "execution_count": null,
   "outputs": [],
   "source": [],
   "metadata": {
    "collapsed": false,
    "pycharm": {
     "name": "#%%\n"
    }
   }
  },
  {
   "cell_type": "code",
   "execution_count": 114,
   "outputs": [
    {
     "name": "stdout",
     "output_type": "stream",
     "text": [
      "-- Creating CNN model --\n",
      "Model: \"sequential_50\"\n",
      "_________________________________________________________________\n",
      " Layer (type)                Output Shape              Param #   \n",
      "=================================================================\n",
      " conv1_1 (Conv2D)            (None, 224, 224, 64)      128       \n",
      "                                                                 \n",
      " conv1_2 (Conv2D)            (None, 112, 112, 64)      4160      \n",
      "                                                                 \n",
      " BN_1 (BatchNormalization)   (None, 112, 112, 64)      256       \n",
      "                                                                 \n",
      " conv2_1 (Conv2D)            (None, 112, 112, 128)     8320      \n",
      "                                                                 \n",
      " conv2_2 (Conv2D)            (None, 56, 56, 128)       16512     \n",
      "                                                                 \n",
      " BN_2 (BatchNormalization)   (None, 56, 56, 128)       512       \n",
      "                                                                 \n",
      " conv3_1 (Conv2D)            (None, 56, 56, 256)       33024     \n",
      "                                                                 \n",
      " conv3_2 (Conv2D)            (None, 56, 56, 256)       65792     \n",
      "                                                                 \n",
      " conv3_3 (Conv2D)            (None, 28, 28, 256)       65792     \n",
      "                                                                 \n",
      " BN_3 (BatchNormalization)   (None, 28, 28, 256)       1024      \n",
      "                                                                 \n",
      " conv4_1 (Conv2D)            (None, 28, 28, 512)       131584    \n",
      "                                                                 \n",
      " conv4_2 (Conv2D)            (None, 28, 28, 512)       262656    \n",
      "                                                                 \n",
      " conv4_3 (Conv2D)            (None, 28, 28, 512)       262656    \n",
      "                                                                 \n",
      " BN_4 (BatchNormalization)   (None, 28, 28, 512)       2048      \n",
      "                                                                 \n",
      " conv5_1 (Conv2D)            (None, 28, 28, 512)       262656    \n",
      "                                                                 \n",
      " conv5_2 (Conv2D)            (None, 28, 28, 512)       262656    \n",
      "                                                                 \n",
      " conv5_3 (Conv2D)            (None, 28, 28, 512)       262656    \n",
      "                                                                 \n",
      " BN_5 (BatchNormalization)   (None, 28, 28, 512)       2048      \n",
      "                                                                 \n",
      " conv6_1 (Conv2D)            (None, 28, 28, 512)       262656    \n",
      "                                                                 \n",
      " conv6_2 (Conv2D)            (None, 28, 28, 512)       262656    \n",
      "                                                                 \n",
      " conv6_3 (Conv2D)            (None, 28, 28, 512)       262656    \n",
      "                                                                 \n",
      " BN_6 (BatchNormalization)   (None, 28, 28, 512)       2048      \n",
      "                                                                 \n",
      " conv7_1 (Conv2D)            (None, 28, 28, 256)       131328    \n",
      "                                                                 \n",
      " conv7_2 (Conv2D)            (None, 28, 28, 256)       65792     \n",
      "                                                                 \n",
      " conv7_3 (Conv2D)            (None, 28, 28, 256)       65792     \n",
      "                                                                 \n",
      " BN_7 (BatchNormalization)   (None, 28, 28, 256)       1024      \n",
      "                                                                 \n",
      " conv8_1 (Conv2DTranspose)   (None, 56, 56, 128)       32896     \n",
      "                                                                 \n",
      " conv8_2 (Conv2D)            (None, 56, 56, 128)       16512     \n",
      "                                                                 \n",
      " conv8_3 (Conv2D)            (None, 56, 56, 128)       16512     \n",
      "                                                                 \n",
      "=================================================================\n",
      "Total params: 2,764,352\n",
      "Trainable params: 2,759,872\n",
      "Non-trainable params: 4,480\n",
      "_________________________________________________________________\n",
      "None\n"
     ]
    }
   ],
   "source": [
    "m = CNN()"
   ],
   "metadata": {
    "collapsed": false,
    "pycharm": {
     "name": "#%%\n"
    }
   }
  },
  {
   "cell_type": "code",
   "execution_count": 84,
   "outputs": [
    {
     "ename": "error",
     "evalue": "OpenCV(4.5.5) :-1: error: (-5:Bad argument) in function 'cvtColor'\n> Overload resolution failed:\n>  - src is not a numpy array, neither a scalar\n>  - Expected Ptr<cv::UMat> for argument 'src'\n",
     "output_type": "error",
     "traceback": [
      "\u001B[1;31m---------------------------------------------------------------------------\u001B[0m",
      "\u001B[1;31merror\u001B[0m                                     Traceback (most recent call last)",
      "Input \u001B[1;32mIn [84]\u001B[0m, in \u001B[0;36m<module>\u001B[1;34m\u001B[0m\n\u001B[1;32m----> 1\u001B[0m \u001B[43mm\u001B[49m\u001B[38;5;241;43m.\u001B[39;49m\u001B[43mplot_image\u001B[49m\u001B[43m(\u001B[49m\u001B[43mm\u001B[49m\u001B[38;5;241;43m.\u001B[39;49m\u001B[43mimages\u001B[49m\u001B[43m[\u001B[49m\u001B[38;5;241;43m4\u001B[39;49m\u001B[43m]\u001B[49m\u001B[43m)\u001B[49m\n",
      "File \u001B[1;32m~\\PycharmProjects\\DeepLearningPython\\GroupProject\\CNN_class.py:104\u001B[0m, in \u001B[0;36mCNN.plot_image\u001B[1;34m(self, orig_img)\u001B[0m\n\u001B[0;32m    103\u001B[0m \u001B[38;5;28;01mdef\u001B[39;00m \u001B[38;5;21mplot_image\u001B[39m(\u001B[38;5;28mself\u001B[39m, orig_img):\n\u001B[1;32m--> 104\u001B[0m     img \u001B[38;5;241m=\u001B[39m \u001B[43mcv2\u001B[49m\u001B[38;5;241;43m.\u001B[39;49m\u001B[43mcvtColor\u001B[49m\u001B[43m(\u001B[49m\u001B[43morig_img\u001B[49m\u001B[43m,\u001B[49m\u001B[43m \u001B[49m\u001B[43mcv2\u001B[49m\u001B[38;5;241;43m.\u001B[39;49m\u001B[43mCOLOR_Lab2BGR\u001B[49m\u001B[43m)\u001B[49m\n\u001B[0;32m    105\u001B[0m     cv2\u001B[38;5;241m.\u001B[39mimshow(\u001B[38;5;124m'\u001B[39m\u001B[38;5;124mhere is your fuck*ng image\u001B[39m\u001B[38;5;124m'\u001B[39m, img)\n\u001B[0;32m    106\u001B[0m     cv2\u001B[38;5;241m.\u001B[39mwaitKey(\u001B[38;5;241m0\u001B[39m)\n",
      "\u001B[1;31merror\u001B[0m: OpenCV(4.5.5) :-1: error: (-5:Bad argument) in function 'cvtColor'\n> Overload resolution failed:\n>  - src is not a numpy array, neither a scalar\n>  - Expected Ptr<cv::UMat> for argument 'src'\n"
     ]
    }
   ],
   "source": [
    "m.plot_image(m.images[4])"
   ],
   "metadata": {
    "collapsed": false,
    "pycharm": {
     "name": "#%%\n"
    }
   }
  },
  {
   "cell_type": "code",
   "execution_count": 83,
   "outputs": [
    {
     "data": {
      "text/plain": "TensorShape([224, 224, 3])"
     },
     "execution_count": 83,
     "metadata": {},
     "output_type": "execute_result"
    }
   ],
   "source": [
    "m.images[6].shape"
   ],
   "metadata": {
    "collapsed": false,
    "pycharm": {
     "name": "#%%\n"
    }
   }
  },
  {
   "cell_type": "code",
   "execution_count": null,
   "outputs": [],
   "source": [],
   "metadata": {
    "collapsed": false,
    "pycharm": {
     "name": "#%%\n"
    }
   }
  }
 ],
 "metadata": {
  "kernelspec": {
   "display_name": "Python 3",
   "language": "python",
   "name": "python3"
  },
  "language_info": {
   "codemirror_mode": {
    "name": "ipython",
    "version": 2
   },
   "file_extension": ".py",
   "mimetype": "text/x-python",
   "name": "python",
   "nbconvert_exporter": "python",
   "pygments_lexer": "ipython2",
   "version": "2.7.6"
  }
 },
 "nbformat": 4,
 "nbformat_minor": 0
}