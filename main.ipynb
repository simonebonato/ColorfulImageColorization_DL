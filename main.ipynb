{
 "cells": [
  {
   "cell_type": "code",
   "execution_count": 1,
   "metadata": {
    "collapsed": true,
    "pycharm": {
     "name": "#%%\n"
    }
   },
   "outputs": [],
   "source": [
    "from CNN_class import *\n",
    "from functions import *\n",
    "\n",
    "%load_ext autoreload\n",
    "%autoreload 2"
   ]
  },
  {
   "cell_type": "code",
   "execution_count": 3,
   "outputs": [
    {
     "name": "stdout",
     "output_type": "stream",
     "text": [
      "-- Creating CNN model --\n"
     ]
    },
    {
     "ename": "ValueError",
     "evalue": "The `strides` argument must be a tuple of 2 integers. Received: 0.5",
     "output_type": "error",
     "traceback": [
      "\u001B[1;31m---------------------------------------------------------------------------\u001B[0m",
      "\u001B[1;31mTypeError\u001B[0m                                 Traceback (most recent call last)",
      "File \u001B[1;32m~\\anaconda3\\envs\\tf_bitch\\lib\\site-packages\\keras\\utils\\conv_utils.py:79\u001B[0m, in \u001B[0;36mnormalize_tuple\u001B[1;34m(value, n, name, allow_zero)\u001B[0m\n\u001B[0;32m     78\u001B[0m \u001B[38;5;28;01mtry\u001B[39;00m:\n\u001B[1;32m---> 79\u001B[0m   value_tuple \u001B[38;5;241m=\u001B[39m \u001B[38;5;28;43mtuple\u001B[39;49m\u001B[43m(\u001B[49m\u001B[43mvalue\u001B[49m\u001B[43m)\u001B[49m\n\u001B[0;32m     80\u001B[0m \u001B[38;5;28;01mexcept\u001B[39;00m \u001B[38;5;167;01mTypeError\u001B[39;00m:\n",
      "\u001B[1;31mTypeError\u001B[0m: 'float' object is not iterable",
      "\nDuring handling of the above exception, another exception occurred:\n",
      "\u001B[1;31mValueError\u001B[0m                                Traceback (most recent call last)",
      "Input \u001B[1;32mIn [3]\u001B[0m, in \u001B[0;36m<module>\u001B[1;34m\u001B[0m\n\u001B[1;32m----> 1\u001B[0m m \u001B[38;5;241m=\u001B[39m \u001B[43mCNN\u001B[49m\u001B[43m(\u001B[49m\u001B[43m)\u001B[49m\n",
      "File \u001B[1;32m~\\PycharmProjects\\DeepLearningPython\\GroupProject\\CNN_class.py:48\u001B[0m, in \u001B[0;36mCNN.__init__\u001B[1;34m(self)\u001B[0m\n\u001B[0;32m     14\u001B[0m conv_layers \u001B[38;5;241m=\u001B[39m (\n\u001B[0;32m     15\u001B[0m     (\u001B[38;5;241m224\u001B[39m, \u001B[38;5;241m64\u001B[39m, \u001B[38;5;241m1\u001B[39m, \u001B[38;5;241m1\u001B[39m, \u001B[38;5;241m1\u001B[39m, \u001B[38;5;241m1\u001B[39m, \u001B[38;5;28;01mFalse\u001B[39;00m, \u001B[38;5;28;01mFalse\u001B[39;00m),\n\u001B[0;32m     16\u001B[0m     (\u001B[38;5;241m112\u001B[39m, \u001B[38;5;241m64\u001B[39m, \u001B[38;5;241m2\u001B[39m, \u001B[38;5;241m1\u001B[39m, \u001B[38;5;241m1\u001B[39m, \u001B[38;5;241m1\u001B[39m, \u001B[38;5;28;01mTrue\u001B[39;00m, \u001B[38;5;28;01mFalse\u001B[39;00m),\n\u001B[1;32m   (...)\u001B[0m\n\u001B[0;32m     44\u001B[0m \n\u001B[0;32m     45\u001B[0m )\n\u001B[0;32m     47\u001B[0m \u001B[38;5;28;01mfor\u001B[39;00m (X, C, S, D, Sa, De, BN, L) \u001B[38;5;129;01min\u001B[39;00m conv_layers:\n\u001B[1;32m---> 48\u001B[0m     \u001B[38;5;28mself\u001B[39m\u001B[38;5;241m.\u001B[39mmodel\u001B[38;5;241m.\u001B[39madd(\u001B[43mConv2D\u001B[49m\u001B[43m(\u001B[49m\n\u001B[0;32m     49\u001B[0m \u001B[43m        \u001B[49m\u001B[43mfilters\u001B[49m\u001B[38;5;241;43m=\u001B[39;49m\u001B[43mC\u001B[49m\u001B[43m,\u001B[49m\n\u001B[0;32m     50\u001B[0m \u001B[43m        \u001B[49m\u001B[43mkernel_size\u001B[49m\u001B[38;5;241;43m=\u001B[39;49m\u001B[43mX\u001B[49m\u001B[43m,\u001B[49m\n\u001B[0;32m     51\u001B[0m \u001B[43m        \u001B[49m\u001B[43mstrides\u001B[49m\u001B[38;5;241;43m=\u001B[39;49m\u001B[43mS\u001B[49m\u001B[43m,\u001B[49m\n\u001B[0;32m     52\u001B[0m \u001B[43m        \u001B[49m\u001B[43mdilation_rate\u001B[49m\u001B[38;5;241;43m=\u001B[39;49m\u001B[43mD\u001B[49m\u001B[43m,\u001B[49m\n\u001B[0;32m     53\u001B[0m \u001B[43m        \u001B[49m\u001B[43mactivation\u001B[49m\u001B[38;5;241;43m=\u001B[39;49m\u001B[38;5;124;43m'\u001B[39;49m\u001B[38;5;124;43mrelu\u001B[39;49m\u001B[38;5;124;43m'\u001B[39;49m\n\u001B[0;32m     54\u001B[0m \u001B[43m    \u001B[49m\u001B[43m)\u001B[49m)\n\u001B[0;32m     56\u001B[0m     \u001B[38;5;28;01mif\u001B[39;00m BN:\n\u001B[0;32m     57\u001B[0m         \u001B[38;5;28mself\u001B[39m\u001B[38;5;241m.\u001B[39mmodel\u001B[38;5;241m.\u001B[39madd(BatchNormalization())\n",
      "File \u001B[1;32m~\\anaconda3\\envs\\tf_bitch\\lib\\site-packages\\keras\\layers\\convolutional.py:671\u001B[0m, in \u001B[0;36mConv2D.__init__\u001B[1;34m(self, filters, kernel_size, strides, padding, data_format, dilation_rate, groups, activation, use_bias, kernel_initializer, bias_initializer, kernel_regularizer, bias_regularizer, activity_regularizer, kernel_constraint, bias_constraint, **kwargs)\u001B[0m\n\u001B[0;32m    653\u001B[0m \u001B[38;5;28;01mdef\u001B[39;00m \u001B[38;5;21m__init__\u001B[39m(\u001B[38;5;28mself\u001B[39m,\n\u001B[0;32m    654\u001B[0m              filters,\n\u001B[0;32m    655\u001B[0m              kernel_size,\n\u001B[1;32m   (...)\u001B[0m\n\u001B[0;32m    669\u001B[0m              bias_constraint\u001B[38;5;241m=\u001B[39m\u001B[38;5;28;01mNone\u001B[39;00m,\n\u001B[0;32m    670\u001B[0m              \u001B[38;5;241m*\u001B[39m\u001B[38;5;241m*\u001B[39mkwargs):\n\u001B[1;32m--> 671\u001B[0m   \u001B[38;5;28msuper\u001B[39m(Conv2D, \u001B[38;5;28mself\u001B[39m)\u001B[38;5;241m.\u001B[39m\u001B[38;5;21m__init__\u001B[39m(\n\u001B[0;32m    672\u001B[0m       rank\u001B[38;5;241m=\u001B[39m\u001B[38;5;241m2\u001B[39m,\n\u001B[0;32m    673\u001B[0m       filters\u001B[38;5;241m=\u001B[39mfilters,\n\u001B[0;32m    674\u001B[0m       kernel_size\u001B[38;5;241m=\u001B[39mkernel_size,\n\u001B[0;32m    675\u001B[0m       strides\u001B[38;5;241m=\u001B[39mstrides,\n\u001B[0;32m    676\u001B[0m       padding\u001B[38;5;241m=\u001B[39mpadding,\n\u001B[0;32m    677\u001B[0m       data_format\u001B[38;5;241m=\u001B[39mdata_format,\n\u001B[0;32m    678\u001B[0m       dilation_rate\u001B[38;5;241m=\u001B[39mdilation_rate,\n\u001B[0;32m    679\u001B[0m       groups\u001B[38;5;241m=\u001B[39mgroups,\n\u001B[0;32m    680\u001B[0m       activation\u001B[38;5;241m=\u001B[39mactivations\u001B[38;5;241m.\u001B[39mget(activation),\n\u001B[0;32m    681\u001B[0m       use_bias\u001B[38;5;241m=\u001B[39muse_bias,\n\u001B[0;32m    682\u001B[0m       kernel_initializer\u001B[38;5;241m=\u001B[39minitializers\u001B[38;5;241m.\u001B[39mget(kernel_initializer),\n\u001B[0;32m    683\u001B[0m       bias_initializer\u001B[38;5;241m=\u001B[39minitializers\u001B[38;5;241m.\u001B[39mget(bias_initializer),\n\u001B[0;32m    684\u001B[0m       kernel_regularizer\u001B[38;5;241m=\u001B[39mregularizers\u001B[38;5;241m.\u001B[39mget(kernel_regularizer),\n\u001B[0;32m    685\u001B[0m       bias_regularizer\u001B[38;5;241m=\u001B[39mregularizers\u001B[38;5;241m.\u001B[39mget(bias_regularizer),\n\u001B[0;32m    686\u001B[0m       activity_regularizer\u001B[38;5;241m=\u001B[39mregularizers\u001B[38;5;241m.\u001B[39mget(activity_regularizer),\n\u001B[0;32m    687\u001B[0m       kernel_constraint\u001B[38;5;241m=\u001B[39mconstraints\u001B[38;5;241m.\u001B[39mget(kernel_constraint),\n\u001B[0;32m    688\u001B[0m       bias_constraint\u001B[38;5;241m=\u001B[39mconstraints\u001B[38;5;241m.\u001B[39mget(bias_constraint),\n\u001B[0;32m    689\u001B[0m       \u001B[38;5;241m*\u001B[39m\u001B[38;5;241m*\u001B[39mkwargs)\n",
      "File \u001B[1;32m~\\anaconda3\\envs\\tf_bitch\\lib\\site-packages\\keras\\layers\\convolutional.py:141\u001B[0m, in \u001B[0;36mConv.__init__\u001B[1;34m(self, rank, filters, kernel_size, strides, padding, data_format, dilation_rate, groups, activation, use_bias, kernel_initializer, bias_initializer, kernel_regularizer, bias_regularizer, activity_regularizer, kernel_constraint, bias_constraint, trainable, name, conv_op, **kwargs)\u001B[0m\n\u001B[0;32m    138\u001B[0m \u001B[38;5;28mself\u001B[39m\u001B[38;5;241m.\u001B[39mgroups \u001B[38;5;241m=\u001B[39m groups \u001B[38;5;129;01mor\u001B[39;00m \u001B[38;5;241m1\u001B[39m\n\u001B[0;32m    139\u001B[0m \u001B[38;5;28mself\u001B[39m\u001B[38;5;241m.\u001B[39mkernel_size \u001B[38;5;241m=\u001B[39m conv_utils\u001B[38;5;241m.\u001B[39mnormalize_tuple(\n\u001B[0;32m    140\u001B[0m     kernel_size, rank, \u001B[38;5;124m'\u001B[39m\u001B[38;5;124mkernel_size\u001B[39m\u001B[38;5;124m'\u001B[39m)\n\u001B[1;32m--> 141\u001B[0m \u001B[38;5;28mself\u001B[39m\u001B[38;5;241m.\u001B[39mstrides \u001B[38;5;241m=\u001B[39m \u001B[43mconv_utils\u001B[49m\u001B[38;5;241;43m.\u001B[39;49m\u001B[43mnormalize_tuple\u001B[49m\u001B[43m(\u001B[49m\n\u001B[0;32m    142\u001B[0m \u001B[43m    \u001B[49m\u001B[43mstrides\u001B[49m\u001B[43m,\u001B[49m\u001B[43m \u001B[49m\u001B[43mrank\u001B[49m\u001B[43m,\u001B[49m\u001B[43m \u001B[49m\u001B[38;5;124;43m'\u001B[39;49m\u001B[38;5;124;43mstrides\u001B[39;49m\u001B[38;5;124;43m'\u001B[39;49m\u001B[43m,\u001B[49m\u001B[43m \u001B[49m\u001B[43mallow_zero\u001B[49m\u001B[38;5;241;43m=\u001B[39;49m\u001B[38;5;28;43;01mTrue\u001B[39;49;00m\u001B[43m)\u001B[49m\n\u001B[0;32m    143\u001B[0m \u001B[38;5;28mself\u001B[39m\u001B[38;5;241m.\u001B[39mpadding \u001B[38;5;241m=\u001B[39m conv_utils\u001B[38;5;241m.\u001B[39mnormalize_padding(padding)\n\u001B[0;32m    144\u001B[0m \u001B[38;5;28mself\u001B[39m\u001B[38;5;241m.\u001B[39mdata_format \u001B[38;5;241m=\u001B[39m conv_utils\u001B[38;5;241m.\u001B[39mnormalize_data_format(data_format)\n",
      "File \u001B[1;32m~\\anaconda3\\envs\\tf_bitch\\lib\\site-packages\\keras\\utils\\conv_utils.py:81\u001B[0m, in \u001B[0;36mnormalize_tuple\u001B[1;34m(value, n, name, allow_zero)\u001B[0m\n\u001B[0;32m     79\u001B[0m   value_tuple \u001B[38;5;241m=\u001B[39m \u001B[38;5;28mtuple\u001B[39m(value)\n\u001B[0;32m     80\u001B[0m \u001B[38;5;28;01mexcept\u001B[39;00m \u001B[38;5;167;01mTypeError\u001B[39;00m:\n\u001B[1;32m---> 81\u001B[0m   \u001B[38;5;28;01mraise\u001B[39;00m \u001B[38;5;167;01mValueError\u001B[39;00m(error_msg)\n\u001B[0;32m     82\u001B[0m \u001B[38;5;28;01mif\u001B[39;00m \u001B[38;5;28mlen\u001B[39m(value_tuple) \u001B[38;5;241m!=\u001B[39m n:\n\u001B[0;32m     83\u001B[0m   \u001B[38;5;28;01mraise\u001B[39;00m \u001B[38;5;167;01mValueError\u001B[39;00m(error_msg)\n",
      "\u001B[1;31mValueError\u001B[0m: The `strides` argument must be a tuple of 2 integers. Received: 0.5"
     ]
    }
   ],
   "source": [
    "m = CNN()"
   ],
   "metadata": {
    "collapsed": false,
    "pycharm": {
     "name": "#%%\n"
    }
   }
  },
  {
   "cell_type": "code",
   "execution_count": 3,
   "outputs": [
    {
     "ename": "MemoryError",
     "evalue": "",
     "output_type": "error",
     "traceback": [
      "\u001B[1;31m---------------------------------------------------------------------------\u001B[0m",
      "\u001B[1;31mMemoryError\u001B[0m                               Traceback (most recent call last)",
      "Input \u001B[1;32mIn [3]\u001B[0m, in \u001B[0;36m<module>\u001B[1;34m\u001B[0m\n\u001B[0;32m      1\u001B[0m dataset_filename \u001B[38;5;241m=\u001B[39m \u001B[38;5;124mr\u001B[39m\u001B[38;5;124m'\u001B[39m\u001B[38;5;124mC:\u001B[39m\u001B[38;5;124m\\\u001B[39m\u001B[38;5;124mUsers\u001B[39m\u001B[38;5;124m\\\u001B[39m\u001B[38;5;124msimon\u001B[39m\u001B[38;5;124m\\\u001B[39m\u001B[38;5;124mPycharmProjects\u001B[39m\u001B[38;5;124m\\\u001B[39m\u001B[38;5;124mDeepLearningPython\u001B[39m\u001B[38;5;124m\\\u001B[39m\u001B[38;5;124mGroupProject\u001B[39m\u001B[38;5;124m\\\u001B[39m\u001B[38;5;124mdata\u001B[39m\u001B[38;5;124m\\\u001B[39m\u001B[38;5;124mdataset\u001B[39m\u001B[38;5;124m'\u001B[39m\n\u001B[1;32m----> 2\u001B[0m data \u001B[38;5;241m=\u001B[39m \u001B[43mread_data\u001B[49m\u001B[43m(\u001B[49m\u001B[43mdataset_filename\u001B[49m\u001B[43m)\u001B[49m\n",
      "File \u001B[1;32m~\\PycharmProjects\\DeepLearningPython\\GroupProject\\functions.py:5\u001B[0m, in \u001B[0;36mread_data\u001B[1;34m(filename)\u001B[0m\n\u001B[0;32m      3\u001B[0m \u001B[38;5;28;01mdef\u001B[39;00m \u001B[38;5;21mread_data\u001B[39m(filename):\n\u001B[0;32m      4\u001B[0m     \u001B[38;5;28;01mwith\u001B[39;00m \u001B[38;5;28mopen\u001B[39m(filename, \u001B[38;5;124m'\u001B[39m\u001B[38;5;124mr\u001B[39m\u001B[38;5;124m'\u001B[39m, encoding\u001B[38;5;241m=\u001B[39m\u001B[38;5;124m\"\u001B[39m\u001B[38;5;124mutf8\u001B[39m\u001B[38;5;124m\"\u001B[39m) \u001B[38;5;28;01mas\u001B[39;00m f:\n\u001B[1;32m----> 5\u001B[0m         data \u001B[38;5;241m=\u001B[39m \u001B[43mf\u001B[49m\u001B[38;5;241;43m.\u001B[39;49m\u001B[43mread\u001B[49m\u001B[43m(\u001B[49m\u001B[43m)\u001B[49m[:\u001B[38;5;241m1000\u001B[39m]\n\u001B[0;32m      6\u001B[0m     \u001B[38;5;28mprint\u001B[39m(data)\n\u001B[0;32m      7\u001B[0m     \u001B[38;5;28;01mreturn\u001B[39;00m data\n",
      "File \u001B[1;32m~\\anaconda3\\envs\\tf_bitch\\lib\\codecs.py:322\u001B[0m, in \u001B[0;36mBufferedIncrementalDecoder.decode\u001B[1;34m(self, input, final)\u001B[0m\n\u001B[0;32m    319\u001B[0m \u001B[38;5;28;01mdef\u001B[39;00m \u001B[38;5;21mdecode\u001B[39m(\u001B[38;5;28mself\u001B[39m, \u001B[38;5;28minput\u001B[39m, final\u001B[38;5;241m=\u001B[39m\u001B[38;5;28;01mFalse\u001B[39;00m):\n\u001B[0;32m    320\u001B[0m     \u001B[38;5;66;03m# decode input (taking the buffer into account)\u001B[39;00m\n\u001B[0;32m    321\u001B[0m     data \u001B[38;5;241m=\u001B[39m \u001B[38;5;28mself\u001B[39m\u001B[38;5;241m.\u001B[39mbuffer \u001B[38;5;241m+\u001B[39m \u001B[38;5;28minput\u001B[39m\n\u001B[1;32m--> 322\u001B[0m     (result, consumed) \u001B[38;5;241m=\u001B[39m \u001B[38;5;28;43mself\u001B[39;49m\u001B[38;5;241;43m.\u001B[39;49m\u001B[43m_buffer_decode\u001B[49m\u001B[43m(\u001B[49m\u001B[43mdata\u001B[49m\u001B[43m,\u001B[49m\u001B[43m \u001B[49m\u001B[38;5;28;43mself\u001B[39;49m\u001B[38;5;241;43m.\u001B[39;49m\u001B[43merrors\u001B[49m\u001B[43m,\u001B[49m\u001B[43m \u001B[49m\u001B[43mfinal\u001B[49m\u001B[43m)\u001B[49m\n\u001B[0;32m    323\u001B[0m     \u001B[38;5;66;03m# keep undecoded input until the next call\u001B[39;00m\n\u001B[0;32m    324\u001B[0m     \u001B[38;5;28mself\u001B[39m\u001B[38;5;241m.\u001B[39mbuffer \u001B[38;5;241m=\u001B[39m data[consumed:]\n",
      "\u001B[1;31mMemoryError\u001B[0m: "
     ]
    }
   ],
   "source": [
    "dataset_filename = r'C:\\Users\\simon\\PycharmProjects\\DeepLearningPython\\GroupProject\\data\\dataset'\n",
    "data = read_data(dataset_filename)"
   ],
   "metadata": {
    "collapsed": false,
    "pycharm": {
     "name": "#%%\n"
    }
   }
  },
  {
   "cell_type": "code",
   "execution_count": null,
   "outputs": [],
   "source": [],
   "metadata": {
    "collapsed": false,
    "pycharm": {
     "name": "#%%\n"
    }
   }
  },
  {
   "cell_type": "code",
   "execution_count": null,
   "outputs": [],
   "source": [],
   "metadata": {
    "collapsed": false,
    "pycharm": {
     "name": "#%%\n"
    }
   }
  },
  {
   "cell_type": "code",
   "execution_count": null,
   "outputs": [],
   "source": [],
   "metadata": {
    "collapsed": false,
    "pycharm": {
     "name": "#%%\n"
    }
   }
  }
 ],
 "metadata": {
  "kernelspec": {
   "display_name": "Python 3",
   "language": "python",
   "name": "python3"
  },
  "language_info": {
   "codemirror_mode": {
    "name": "ipython",
    "version": 2
   },
   "file_extension": ".py",
   "mimetype": "text/x-python",
   "name": "python",
   "nbconvert_exporter": "python",
   "pygments_lexer": "ipython2",
   "version": "2.7.6"
  }
 },
 "nbformat": 4,
 "nbformat_minor": 0
}