{
 "cells": [
  {
   "cell_type": "code",
   "execution_count": 1,
   "metadata": {
    "collapsed": true,
    "pycharm": {
     "name": "#%%\n"
    }
   },
   "outputs": [],
   "source": [
    "import matplotlib.pyplot as plt\n",
    "\n",
    "from CNN_class import *\n",
    "from functions import *\n",
    "\n",
    "# %load_ext autoreload\n",
    "# %autoreload 2"
   ]
  },
  {
   "cell_type": "code",
   "execution_count": 2,
   "metadata": {
    "collapsed": false,
    "pycharm": {
     "name": "#%%\n"
    }
   },
   "outputs": [
    {
     "name": "stdout",
     "output_type": "stream",
     "text": [
      "-- Creating CNN model --\n",
      "WARNING:tensorflow:Please add `keras.layers.InputLayer` instead of `keras.Input` to Sequential model. `keras.Input` is intended to be used by Functional model.\n",
      "Model: \"sequential\"\n",
      "_________________________________________________________________\n",
      "Layer (type)                 Output Shape              Param #   \n",
      "=================================================================\n",
      "conv1_1 (Conv2D)             (None, 224, 224, 64)      128       \n",
      "_________________________________________________________________\n",
      "conv1_2 (Conv2D)             (None, 112, 112, 64)      4160      \n",
      "_________________________________________________________________\n",
      "BN_1 (BatchNormalization)    (None, 112, 112, 64)      256       \n",
      "_________________________________________________________________\n",
      "conv2_1 (Conv2D)             (None, 112, 112, 128)     8320      \n",
      "_________________________________________________________________\n",
      "conv2_2 (Conv2D)             (None, 56, 56, 128)       16512     \n",
      "_________________________________________________________________\n",
      "BN_2 (BatchNormalization)    (None, 56, 56, 128)       512       \n",
      "_________________________________________________________________\n",
      "conv3_1 (Conv2D)             (None, 56, 56, 256)       33024     \n",
      "_________________________________________________________________\n",
      "conv3_2 (Conv2D)             (None, 56, 56, 256)       65792     \n",
      "_________________________________________________________________\n",
      "conv3_3 (Conv2D)             (None, 28, 28, 256)       65792     \n",
      "_________________________________________________________________\n",
      "BN_3 (BatchNormalization)    (None, 28, 28, 256)       1024      \n",
      "_________________________________________________________________\n",
      "conv4_1 (Conv2D)             (None, 28, 28, 512)       131584    \n",
      "_________________________________________________________________\n",
      "conv4_2 (Conv2D)             (None, 28, 28, 512)       262656    \n",
      "_________________________________________________________________\n",
      "conv4_3 (Conv2D)             (None, 28, 28, 512)       262656    \n",
      "_________________________________________________________________\n",
      "BN_4 (BatchNormalization)    (None, 28, 28, 512)       2048      \n",
      "_________________________________________________________________\n",
      "conv5_1 (Conv2D)             (None, 28, 28, 512)       262656    \n",
      "_________________________________________________________________\n",
      "conv5_2 (Conv2D)             (None, 28, 28, 512)       262656    \n",
      "_________________________________________________________________\n",
      "conv5_3 (Conv2D)             (None, 28, 28, 512)       262656    \n",
      "_________________________________________________________________\n",
      "BN_5 (BatchNormalization)    (None, 28, 28, 512)       2048      \n",
      "_________________________________________________________________\n",
      "conv6_1 (Conv2D)             (None, 28, 28, 512)       262656    \n",
      "_________________________________________________________________\n",
      "conv6_2 (Conv2D)             (None, 28, 28, 512)       262656    \n",
      "_________________________________________________________________\n",
      "conv6_3 (Conv2D)             (None, 28, 28, 512)       262656    \n",
      "_________________________________________________________________\n",
      "BN_6 (BatchNormalization)    (None, 28, 28, 512)       2048      \n",
      "_________________________________________________________________\n",
      "conv7_1 (Conv2D)             (None, 28, 28, 256)       131328    \n",
      "_________________________________________________________________\n",
      "conv7_2 (Conv2D)             (None, 28, 28, 256)       65792     \n",
      "_________________________________________________________________\n",
      "conv7_3 (Conv2D)             (None, 28, 28, 256)       65792     \n",
      "_________________________________________________________________\n",
      "BN_7 (BatchNormalization)    (None, 28, 28, 256)       1024      \n",
      "_________________________________________________________________\n",
      "conv8_1 (Conv2DTranspose)    (None, 56, 56, 128)       32896     \n",
      "_________________________________________________________________\n",
      "conv8_2 (Conv2D)             (None, 56, 56, 128)       16512     \n",
      "_________________________________________________________________\n",
      "conv8_3 (Conv2D)             (None, 56, 56, 128)       16512     \n",
      "=================================================================\n",
      "Total params: 2,764,352\n",
      "Trainable params: 2,759,872\n",
      "Non-trainable params: 4,480\n",
      "_________________________________________________________________\n",
      "None\n"
     ]
    }
   ],
   "source": [
    "m = CNN()"
   ]
  },
  {
   "cell_type": "code",
   "execution_count": null,
   "metadata": {
    "collapsed": false,
    "pycharm": {
     "name": "#%%\n"
    }
   },
   "outputs": [],
   "source": [
    "m.plot_image(m.images[4])"
   ]
  },
  {
   "cell_type": "code",
   "execution_count": null,
   "metadata": {
    "collapsed": false,
    "pycharm": {
     "name": "#%%\n"
    }
   },
   "outputs": [],
   "source": [
    "m.images[6].shape"
   ]
  },
  {
   "cell_type": "code",
   "execution_count": null,
   "outputs": [],
   "source": [],
   "metadata": {
    "collapsed": false,
    "pycharm": {
     "name": "#%%\n"
    }
   }
  },
  {
   "cell_type": "code",
   "execution_count": null,
   "metadata": {
    "collapsed": false,
    "pycharm": {
     "name": "#%%\n"
    }
   },
   "outputs": [],
   "source": []
  }
 ],
 "metadata": {
  "kernelspec": {
   "display_name": "Python 3",
   "language": "python",
   "name": "python3"
  },
  "language_info": {
   "codemirror_mode": {
    "name": "ipython",
    "version": 3
   },
   "file_extension": ".py",
   "mimetype": "text/x-python",
   "name": "python",
   "nbconvert_exporter": "python",
   "pygments_lexer": "ipython3",
   "version": "3.6.13"
  }
 },
 "nbformat": 4,
 "nbformat_minor": 0
}